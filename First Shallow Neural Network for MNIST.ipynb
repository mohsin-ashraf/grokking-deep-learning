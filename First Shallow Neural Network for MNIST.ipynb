{
 "cells": [
  {
   "cell_type": "code",
   "execution_count": null,
   "metadata": {},
   "outputs": [],
   "source": [
    "import numpy as np\n",
    "import pandas as pd\n",
    "from tqdm import tqdm\n",
    "import matplotlib.pyplot as plt\n",
    "import tensorflow as tf # Used for Loading Datasets.\n",
    "\n",
    "%matplotlib inline"
   ]
  },
  {
   "cell_type": "code",
   "execution_count": null,
   "metadata": {},
   "outputs": [],
   "source": [
    "(x_train, true), (x_test, y_test) = tf.keras.datasets.mnist.load_data()\n",
    "x_train,x_test = x_train/255.0 ,x_test/255.0\n",
    "inputs = x_train.reshape(x_train.shape[0],784)\n",
    "test = x_test.reshape(x_test.shape[0],784)"
   ]
  },
  {
   "cell_type": "code",
   "execution_count": null,
   "metadata": {},
   "outputs": [],
   "source": [
    "test_true = pd.get_dummies(y_test).values\n",
    "true = pd.get_dummies(true).values\n",
    "print (\"Inputs Shape {}\".format(inputs.shape))\n",
    "print (\"True Shape {}\".format(true.shape))"
   ]
  },
  {
   "cell_type": "code",
   "execution_count": null,
   "metadata": {},
   "outputs": [],
   "source": [
    "weights = np.random.normal(size=(inputs.shape[1],true.shape[1])).T"
   ]
  },
  {
   "cell_type": "code",
   "execution_count": null,
   "metadata": {},
   "outputs": [],
   "source": [
    "weights.shape"
   ]
  },
  {
   "cell_type": "code",
   "execution_count": null,
   "metadata": {},
   "outputs": [],
   "source": [
    "def neural_network(data_point,weights):\n",
    "    outputs = np.zeros(10)\n",
    "    for i in range(len(weights)):\n",
    "        outputs[i] = np.dot(data_point,weights[i])\n",
    "    return outputs"
   ]
  },
  {
   "cell_type": "code",
   "execution_count": null,
   "metadata": {},
   "outputs": [],
   "source": [
    "def outer_prod(inputs, deltas):\n",
    "    output = np.outer(deltas,inputs)\n",
    "    return output"
   ]
  },
  {
   "cell_type": "code",
   "execution_count": null,
   "metadata": {
    "scrolled": true
   },
   "outputs": [],
   "source": [
    "alpha = 0.001\n",
    "t_epochs = 100\n",
    "\n",
    "for epoch in range(t_epochs):\n",
    "    error = np.zeros(len(inputs))\n",
    "    counter = 0\n",
    "    for data_point,label in zip(inputs,true):\n",
    "        pred = neural_network(data_point, weights)\n",
    "        delta = (pred - label)\n",
    "        error[counter] = sum((pred - label) ** 2)\n",
    "        counter +=1\n",
    "        weight_deltas = outer_prod(data_point, delta)\n",
    "        weights -= alpha * weight_deltas\n",
    "    print (f\"Epoch {epoch} error: {error.sum()}\")"
   ]
  },
  {
   "cell_type": "code",
   "execution_count": null,
   "metadata": {},
   "outputs": [],
   "source": [
    "index = 12\n",
    "np.argmax(neural_network(inputs[index],weights))"
   ]
  },
  {
   "cell_type": "code",
   "execution_count": null,
   "metadata": {},
   "outputs": [],
   "source": [
    "true[index]"
   ]
  },
  {
   "cell_type": "code",
   "execution_count": null,
   "metadata": {},
   "outputs": [],
   "source": [
    "plt.imshow(weights[4].reshape(28,28))"
   ]
  },
  {
   "cell_type": "code",
   "execution_count": null,
   "metadata": {},
   "outputs": [],
   "source": []
  }
 ],
 "metadata": {
  "kernelspec": {
   "display_name": "Python 3",
   "language": "python",
   "name": "python3"
  },
  "language_info": {
   "codemirror_mode": {
    "name": "ipython",
    "version": 3
   },
   "file_extension": ".py",
   "mimetype": "text/x-python",
   "name": "python",
   "nbconvert_exporter": "python",
   "pygments_lexer": "ipython3",
   "version": "3.6.9"
  }
 },
 "nbformat": 4,
 "nbformat_minor": 4
}
