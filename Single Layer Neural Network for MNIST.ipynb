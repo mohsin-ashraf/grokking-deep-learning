{
 "cells": [
  {
   "cell_type": "code",
   "execution_count": 1,
   "metadata": {
    "scrolled": true
   },
   "outputs": [
    {
     "name": "stderr",
     "output_type": "stream",
     "text": [
      "/home/mohsin/.local/lib/python3.6/site-packages/tensorflow/python/framework/dtypes.py:516: FutureWarning: Passing (type, 1) or '1type' as a synonym of type is deprecated; in a future version of numpy, it will be understood as (type, (1,)) / '(1,)type'.\n",
      "  _np_qint8 = np.dtype([(\"qint8\", np.int8, 1)])\n",
      "/home/mohsin/.local/lib/python3.6/site-packages/tensorflow/python/framework/dtypes.py:517: FutureWarning: Passing (type, 1) or '1type' as a synonym of type is deprecated; in a future version of numpy, it will be understood as (type, (1,)) / '(1,)type'.\n",
      "  _np_quint8 = np.dtype([(\"quint8\", np.uint8, 1)])\n",
      "/home/mohsin/.local/lib/python3.6/site-packages/tensorflow/python/framework/dtypes.py:518: FutureWarning: Passing (type, 1) or '1type' as a synonym of type is deprecated; in a future version of numpy, it will be understood as (type, (1,)) / '(1,)type'.\n",
      "  _np_qint16 = np.dtype([(\"qint16\", np.int16, 1)])\n",
      "/home/mohsin/.local/lib/python3.6/site-packages/tensorflow/python/framework/dtypes.py:519: FutureWarning: Passing (type, 1) or '1type' as a synonym of type is deprecated; in a future version of numpy, it will be understood as (type, (1,)) / '(1,)type'.\n",
      "  _np_quint16 = np.dtype([(\"quint16\", np.uint16, 1)])\n",
      "/home/mohsin/.local/lib/python3.6/site-packages/tensorflow/python/framework/dtypes.py:520: FutureWarning: Passing (type, 1) or '1type' as a synonym of type is deprecated; in a future version of numpy, it will be understood as (type, (1,)) / '(1,)type'.\n",
      "  _np_qint32 = np.dtype([(\"qint32\", np.int32, 1)])\n",
      "/home/mohsin/.local/lib/python3.6/site-packages/tensorflow/python/framework/dtypes.py:525: FutureWarning: Passing (type, 1) or '1type' as a synonym of type is deprecated; in a future version of numpy, it will be understood as (type, (1,)) / '(1,)type'.\n",
      "  np_resource = np.dtype([(\"resource\", np.ubyte, 1)])\n",
      "/home/mohsin/.local/lib/python3.6/site-packages/tensorboard/compat/tensorflow_stub/dtypes.py:541: FutureWarning: Passing (type, 1) or '1type' as a synonym of type is deprecated; in a future version of numpy, it will be understood as (type, (1,)) / '(1,)type'.\n",
      "  _np_qint8 = np.dtype([(\"qint8\", np.int8, 1)])\n",
      "/home/mohsin/.local/lib/python3.6/site-packages/tensorboard/compat/tensorflow_stub/dtypes.py:542: FutureWarning: Passing (type, 1) or '1type' as a synonym of type is deprecated; in a future version of numpy, it will be understood as (type, (1,)) / '(1,)type'.\n",
      "  _np_quint8 = np.dtype([(\"quint8\", np.uint8, 1)])\n",
      "/home/mohsin/.local/lib/python3.6/site-packages/tensorboard/compat/tensorflow_stub/dtypes.py:543: FutureWarning: Passing (type, 1) or '1type' as a synonym of type is deprecated; in a future version of numpy, it will be understood as (type, (1,)) / '(1,)type'.\n",
      "  _np_qint16 = np.dtype([(\"qint16\", np.int16, 1)])\n",
      "/home/mohsin/.local/lib/python3.6/site-packages/tensorboard/compat/tensorflow_stub/dtypes.py:544: FutureWarning: Passing (type, 1) or '1type' as a synonym of type is deprecated; in a future version of numpy, it will be understood as (type, (1,)) / '(1,)type'.\n",
      "  _np_quint16 = np.dtype([(\"quint16\", np.uint16, 1)])\n",
      "/home/mohsin/.local/lib/python3.6/site-packages/tensorboard/compat/tensorflow_stub/dtypes.py:545: FutureWarning: Passing (type, 1) or '1type' as a synonym of type is deprecated; in a future version of numpy, it will be understood as (type, (1,)) / '(1,)type'.\n",
      "  _np_qint32 = np.dtype([(\"qint32\", np.int32, 1)])\n",
      "/home/mohsin/.local/lib/python3.6/site-packages/tensorboard/compat/tensorflow_stub/dtypes.py:550: FutureWarning: Passing (type, 1) or '1type' as a synonym of type is deprecated; in a future version of numpy, it will be understood as (type, (1,)) / '(1,)type'.\n",
      "  np_resource = np.dtype([(\"resource\", np.ubyte, 1)])\n"
     ]
    }
   ],
   "source": [
    "import numpy as np\n",
    "import pandas as pd\n",
    "from tqdm import tqdm\n",
    "import matplotlib.pyplot as plt\n",
    "import tensorflow as tf # Used for Loading Datasets.\n",
    "\n",
    "%matplotlib inline"
   ]
  },
  {
   "cell_type": "code",
   "execution_count": 2,
   "metadata": {},
   "outputs": [],
   "source": [
    "(x_train, true), (x_test, y_test) = tf.keras.datasets.mnist.load_data()\n",
    "x_train,x_test = x_train/255.0 ,x_test/255.0\n",
    "inputs = x_train.reshape(x_train.shape[0],784)\n",
    "test = x_test.reshape(x_test.shape[0],784)"
   ]
  },
  {
   "cell_type": "code",
   "execution_count": 3,
   "metadata": {},
   "outputs": [
    {
     "name": "stdout",
     "output_type": "stream",
     "text": [
      "Inputs Shape (60000, 784)\n",
      "True Shape (60000, 10)\n"
     ]
    }
   ],
   "source": [
    "test_true = pd.get_dummies(y_test).values\n",
    "true = pd.get_dummies(true).values\n",
    "print (\"Inputs Shape {}\".format(inputs.shape))\n",
    "print (\"True Shape {}\".format(true.shape))"
   ]
  },
  {
   "cell_type": "code",
   "execution_count": 4,
   "metadata": {},
   "outputs": [],
   "source": [
    "weights = np.random.normal(size=(inputs.shape[1],true.shape[1])).T"
   ]
  },
  {
   "cell_type": "code",
   "execution_count": 5,
   "metadata": {},
   "outputs": [
    {
     "data": {
      "text/plain": [
       "(10, 784)"
      ]
     },
     "execution_count": 5,
     "metadata": {},
     "output_type": "execute_result"
    }
   ],
   "source": [
    "weights.shape"
   ]
  },
  {
   "cell_type": "code",
   "execution_count": 6,
   "metadata": {},
   "outputs": [],
   "source": [
    "def neural_network(data_point,weights):\n",
    "    outputs = np.dot(data_point,weights.T)\n",
    "    return outputs"
   ]
  },
  {
   "cell_type": "code",
   "execution_count": 7,
   "metadata": {
    "scrolled": true
   },
   "outputs": [
    {
     "name": "stdout",
     "output_type": "stream",
     "text": [
      "Epoch 0 error: 1798014.9536142887\n",
      "Epoch 1 error: 398278.9233674927\n",
      "Epoch 2 error: 217956.64954957896\n",
      "Epoch 3 error: 146934.58338362197\n",
      "Epoch 4 error: 111246.33959231702\n",
      "Epoch 5 error: 90561.33273212363\n",
      "Epoch 6 error: 77333.66431851388\n",
      "Epoch 7 error: 68242.72587504705\n",
      "Epoch 8 error: 61645.31334654581\n",
      "Epoch 9 error: 56652.68904995196\n",
      "Epoch 10 error: 52748.812036903015\n",
      "Epoch 11 error: 49616.01179182042\n",
      "Epoch 12 error: 47048.916139542176\n",
      "Epoch 13 error: 44909.13198816103\n",
      "Epoch 14 error: 43100.049763257965\n",
      "Epoch 15 error: 41552.16255269023\n",
      "Epoch 16 error: 40214.15304738134\n",
      "Epoch 17 error: 39047.28195279365\n",
      "Epoch 18 error: 38021.73882382026\n",
      "Epoch 19 error: 37114.199466119484\n",
      "Epoch 20 error: 36306.14812602167\n",
      "Epoch 21 error: 35582.69801076892\n",
      "Epoch 22 error: 34931.74475690766\n",
      "Epoch 23 error: 34343.34747470037\n",
      "Epoch 24 error: 33809.26859733418\n",
      "Epoch 25 error: 33322.626647986224\n",
      "Epoch 26 error: 32877.630678300404\n",
      "Epoch 27 error: 32469.374699886823\n",
      "Epoch 28 error: 32093.67680835584\n",
      "Epoch 29 error: 31746.95202952849\n",
      "Epoch 30 error: 31426.110907768525\n",
      "Epoch 31 error: 31128.47795424808\n",
      "Epoch 32 error: 30851.72556636639\n",
      "Epoch 33 error: 30593.8201071005\n",
      "Epoch 34 error: 30352.97762033262\n",
      "Epoch 35 error: 30127.62724004818\n",
      "Epoch 36 error: 29916.380785939837\n",
      "Epoch 37 error: 29718.00736584951\n",
      "Epoch 38 error: 29531.41205512269\n",
      "Epoch 39 error: 29355.617914633243\n",
      "Epoch 40 error: 29189.750757586135\n",
      "Epoch 41 error: 29033.0261908662\n",
      "Epoch 42 error: 28884.738547497942\n",
      "Epoch 43 error: 28744.251398521985\n",
      "Epoch 44 error: 28610.989389620623\n",
      "Epoch 45 error: 28484.431193416083\n",
      "Epoch 46 error: 28364.10340500966\n",
      "Epoch 47 error: 28249.575237934372\n",
      "Epoch 48 error: 28140.453901725963\n",
      "Epoch 49 error: 28036.380561915757\n",
      "Epoch 50 error: 27937.02679930173\n",
      "Epoch 51 error: 27842.091498557587\n",
      "Epoch 52 error: 27751.29810714261\n",
      "Epoch 53 error: 27664.3922145128\n",
      "Epoch 54 error: 27581.13940915293\n",
      "Epoch 55 error: 27501.323377226323\n",
      "Epoch 56 error: 27424.7442118977\n",
      "Epoch 57 error: 27351.21690680364\n",
      "Epoch 58 error: 27280.570010870622\n",
      "Epoch 59 error: 27212.64442483088\n",
      "Epoch 60 error: 27147.292322457473\n",
      "Epoch 61 error: 27084.37618181207\n",
      "Epoch 62 error: 27023.76791373577\n",
      "Epoch 63 error: 26965.348076469836\n",
      "Epoch 64 error: 26909.005166712537\n",
      "Epoch 65 error: 26854.63497863819\n",
      "Epoch 66 error: 26802.14002345524\n",
      "Epoch 67 error: 26751.429002986886\n",
      "Epoch 68 error: 26702.416331542867\n",
      "Epoch 69 error: 26655.021701031423\n",
      "Epoch 70 error: 26609.169684851542\n",
      "Epoch 71 error: 26564.789376621156\n",
      "Epoch 72 error: 26521.814060245433\n",
      "Epoch 73 error: 26480.180908222894\n",
      "Epoch 74 error: 26439.830705430482\n",
      "Epoch 75 error: 26400.707595931082\n",
      "Epoch 76 error: 26362.758850611986\n",
      "Epoch 77 error: 26325.934653696877\n",
      "Epoch 78 error: 26290.187906379775\n",
      "Epoch 79 error: 26255.474046011695\n",
      "Epoch 80 error: 26221.750879432006\n",
      "Epoch 81 error: 26188.9784291793\n",
      "Epoch 82 error: 26157.1187914435\n",
      "Epoch 83 error: 26126.136004733737\n",
      "Epoch 84 error: 26095.995928337023\n",
      "Epoch 85 error: 26066.666129732163\n",
      "Epoch 86 error: 26038.115780203458\n",
      "Epoch 87 error: 26010.315557970225\n",
      "Epoch 88 error: 25983.237558212157\n",
      "Epoch 89 error: 25956.855209427897\n",
      "Epoch 90 error: 25931.143195615863\n",
      "Epoch 91 error: 25906.07738381246\n",
      "Epoch 92 error: 25881.63475656463\n",
      "Epoch 93 error: 25857.793348951152\n",
      "Epoch 94 error: 25834.532189801015\n",
      "Epoch 95 error: 25811.831246787464\n",
      "Epoch 96 error: 25789.671375104543\n",
      "Epoch 97 error: 25768.034269457206\n",
      "Epoch 98 error: 25746.90241911925\n",
      "Epoch 99 error: 25726.25906583371\n"
     ]
    }
   ],
   "source": [
    "alpha = 0.001\n",
    "t_epochs = 100\n",
    "\n",
    "for epoch in range(t_epochs):\n",
    "    error = np.zeros(len(inputs))\n",
    "    counter = 0\n",
    "    for data_point,label in zip(inputs,true):\n",
    "        pred = neural_network(data_point, weights)\n",
    "        deltas = (pred - label)\n",
    "        error[counter] = sum((pred - label) ** 2)\n",
    "        counter +=1\n",
    "        weights -= alpha * np.outer(deltas, data_point)\n",
    "    print (f\"Epoch {epoch} error: {error.sum()}\")"
   ]
  },
  {
   "cell_type": "code",
   "execution_count": 8,
   "metadata": {},
   "outputs": [
    {
     "data": {
      "text/plain": [
       "3"
      ]
     },
     "execution_count": 8,
     "metadata": {},
     "output_type": "execute_result"
    }
   ],
   "source": [
    "index = 12\n",
    "np.argmax(neural_network(inputs[index],weights))"
   ]
  },
  {
   "cell_type": "code",
   "execution_count": 9,
   "metadata": {},
   "outputs": [
    {
     "data": {
      "text/plain": [
       "array([0, 0, 0, 1, 0, 0, 0, 0, 0, 0], dtype=uint8)"
      ]
     },
     "execution_count": 9,
     "metadata": {},
     "output_type": "execute_result"
    }
   ],
   "source": [
    "true[index]"
   ]
  },
  {
   "cell_type": "code",
   "execution_count": 10,
   "metadata": {},
   "outputs": [
    {
     "data": {
      "text/plain": [
       "<matplotlib.image.AxesImage at 0x7fd26d6bff98>"
      ]
     },
     "execution_count": 10,
     "metadata": {},
     "output_type": "execute_result"
    },
    {
     "data": {
      "image/png": "[encoded data removed]",
      "text/plain": [
       "<Figure size 432x288 with 1 Axes>"
      ]
     },
     "metadata": {
      "needs_background": "light"
     },
     "output_type": "display_data"
    }
   ],
   "source": [
    "plt.imshow(weights[4].reshape(28,28))"
   ]
  },
  {
   "cell_type": "code",
   "execution_count": null,
   "metadata": {},
   "outputs": [],
   "source": []
  }
 ],
 "metadata": {
  "kernelspec": {
   "display_name": "Python 3",
   "language": "python",
   "name": "python3"
  },
  "language_info": {
   "codemirror_mode": {
    "name": "ipython",
    "version": 3
   },
   "file_extension": ".py",
   "mimetype": "text/x-python",
   "name": "python",
   "nbconvert_exporter": "python",
   "pygments_lexer": "ipython3",
   "version": "3.6.9"
  }
 },
 "nbformat": 4,
 "nbformat_minor": 4
}
