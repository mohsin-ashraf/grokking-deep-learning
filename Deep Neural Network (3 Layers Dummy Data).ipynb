{
 "cells": [
  {
   "cell_type": "code",
   "execution_count": 1,
   "metadata": {},
   "outputs": [],
   "source": [
    "import numpy as np"
   ]
  },
  {
   "cell_type": "code",
   "execution_count": 2,
   "metadata": {},
   "outputs": [],
   "source": [
    "def relu(x):\n",
    "    return (x>0)*x\n",
    "\n",
    "def relu2deriv(output):\n",
    "    return output > 0"
   ]
  },
  {
   "cell_type": "code",
   "execution_count": 3,
   "metadata": {},
   "outputs": [],
   "source": [
    "lights = np.array([\n",
    "    [1,0,1],\n",
    "    [0,1,1],\n",
    "    [0,0,1],\n",
    "    [1,1,1]\n",
    "])\n",
    "\n",
    "walk_stop = np.array([[1,1,0,0]]).T"
   ]
  },
  {
   "cell_type": "code",
   "execution_count": 4,
   "metadata": {},
   "outputs": [
    {
     "data": {
      "text/plain": [
       "array([[1, 0, 1],\n",
       "       [0, 1, 1],\n",
       "       [0, 0, 1],\n",
       "       [1, 1, 1]])"
      ]
     },
     "execution_count": 4,
     "metadata": {},
     "output_type": "execute_result"
    }
   ],
   "source": [
    "lights"
   ]
  },
  {
   "cell_type": "code",
   "execution_count": 5,
   "metadata": {},
   "outputs": [
    {
     "data": {
      "text/plain": [
       "array([[1],\n",
       "       [1],\n",
       "       [0],\n",
       "       [0]])"
      ]
     },
     "execution_count": 5,
     "metadata": {},
     "output_type": "execute_result"
    }
   ],
   "source": [
    "walk_stop"
   ]
  },
  {
   "cell_type": "code",
   "execution_count": 6,
   "metadata": {},
   "outputs": [],
   "source": [
    "alpha = 0.2\n",
    "hidden_size_1 = 3\n",
    "hidden_size_2 = 5"
   ]
  },
  {
   "cell_type": "code",
   "execution_count": 7,
   "metadata": {},
   "outputs": [],
   "source": [
    "weights_0_1 = 2 * np.random.random((3,hidden_size_1)) - 1\n",
    "weights_1_2 = 2 * np.random.random((hidden_size_1,hidden_size_2)) - 1\n",
    "weights_2_3 = 2 * np.random.random((hidden_size_2,1)) - 1"
   ]
  },
  {
   "cell_type": "code",
   "execution_count": 8,
   "metadata": {},
   "outputs": [
    {
     "name": "stdout",
     "output_type": "stream",
     "text": [
      "1.0192431190791735\n",
      "1.0000385921943376\n",
      "1.0000005733442507\n",
      "1.000000008325198\n",
      "1.0000000001205485\n",
      "1.0000000000017448\n"
     ]
    }
   ],
   "source": [
    "for iteration in range(60):\n",
    "    layer_3_error = 0\n",
    "    for i in range(len(lights)):\n",
    "        layer_0 = lights[i:i+1]\n",
    "        layer_1 = relu(np.dot(layer_0,weights_0_1))\n",
    "        layer_2 = relu(np.dot(layer_1,weights_1_2))\n",
    "        layer_3 = np.dot(layer_2,weights_2_3)\n",
    "        \n",
    "        layer_3_error += np.sum((layer_3 - walk_stop[i:i+1]) ** 2)\n",
    "        layer_3_delta = (layer_3 - walk_stop[i:i+1])\n",
    "        layer_2_delta = np.dot(layer_3_delta,weights_2_3.T) * relu2deriv(layer_2)\n",
    "        layer_1_delta = np.dot(layer_2_delta,weights_1_2.T) * relu2deriv(layer_1)\n",
    "        \n",
    "        weights_2_3 -= alpha * np.dot(layer_2.T,layer_3_delta)\n",
    "        weights_1_2 -= alpha * np.dot(layer_1.T,layer_2_delta)\n",
    "        weights_0_1 -= alpha * np.dot(layer_0.T,layer_1_delta)\n",
    "        \n",
    "    if iteration %10 == 9:\n",
    "        print (layer_3_error)\n",
    "        \n",
    "        "
   ]
  },
  {
   "cell_type": "code",
   "execution_count": null,
   "metadata": {},
   "outputs": [],
   "source": []
  }
 ],
 "metadata": {
  "kernelspec": {
   "display_name": "Python 3",
   "language": "python",
   "name": "python3"
  },
  "language_info": {
   "codemirror_mode": {
    "name": "ipython",
    "version": 3
   },
   "file_extension": ".py",
   "mimetype": "text/x-python",
   "name": "python",
   "nbconvert_exporter": "python",
   "pygments_lexer": "ipython3",
   "version": "3.6.9"
  }
 },
 "nbformat": 4,
 "nbformat_minor": 4
}
